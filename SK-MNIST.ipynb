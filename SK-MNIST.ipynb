{
 "cells": [
  {
   "cell_type": "markdown",
   "metadata": {
    "id": "jXynxrMQYZ30"
   },
   "source": [
    "# Imports"
   ]
  },
  {
   "cell_type": "code",
   "execution_count": null,
   "metadata": {
    "executionInfo": {
     "elapsed": 5435,
     "status": "ok",
     "timestamp": 1742156453432,
     "user": {
      "displayName": "Dimitri Caputo",
      "userId": "12075933984764029925"
     },
     "user_tz": -60
    },
    "id": "DOD-qHOuYZ33"
   },
   "outputs": [
    {
     "name": "stderr",
     "output_type": "stream",
     "text": [
      "2025-04-04 13:38:56.079846: E external/local_xla/xla/stream_executor/cuda/cuda_fft.cc:477] Unable to register cuFFT factory: Attempting to register factory for plugin cuFFT when one has already been registered\n",
      "WARNING: All log messages before absl::InitializeLog() is called are written to STDERR\n",
      "E0000 00:00:1743766736.318406  271164 cuda_dnn.cc:8310] Unable to register cuDNN factory: Attempting to register factory for plugin cuDNN when one has already been registered\n",
      "E0000 00:00:1743766736.383324  271164 cuda_blas.cc:1418] Unable to register cuBLAS factory: Attempting to register factory for plugin cuBLAS when one has already been registered\n",
      "2025-04-04 13:38:56.823779: I tensorflow/core/platform/cpu_feature_guard.cc:210] This TensorFlow binary is optimized to use available CPU instructions in performance-critical operations.\n",
      "To enable the following instructions: AVX2 FMA, in other operations, rebuild TensorFlow with the appropriate compiler flags.\n"
     ]
    }
   ],
   "source": [
    "import warnings\n",
    "warnings.filterwarnings('ignore')\n",
    "\n",
    "import pandas as pd\n",
    "import numpy as np\n",
    "import tensorflow as tf\n",
    "import matplotlib.pyplot as plt\n",
    "\n",
    "from keras.layers import Input, Conv2D, MaxPooling2D, Flatten, Dense, BatchNormalization, Rescaling, Dropout, Resizing\n",
    "from keras.layers import RandomFlip, RandomTranslation, RandomRotation, RandomZoom\n",
    "from keras.models import Sequential\n",
    "from keras.metrics import F1Score, Precision\n",
    "from keras.losses import CategoricalFocalCrossentropy\n",
    "from keras.callbacks import EarlyStopping\n",
    "from keras.utils import to_categorical\n",
    "\n",
    "from sklearn.metrics import classification_report\n",
    "from sklearn.model_selection import train_test_split\n",
    "from imblearn.over_sampling import SMOTE, ADASYN, KMeansSMOTE\n",
    "from imblearn.under_sampling import TomekLinks, RepeatedEditedNearestNeighbours\n",
    "from imblearn.combine import SMOTETomek, SMOTEENN\n",
    "from sklearn.utils import compute_class_weight\n",
    "from keras.utils import to_categorical\n",
    "import os\n",
    "from PIL import Image"
   ]
  },
  {
   "cell_type": "markdown",
   "metadata": {
    "id": "OxVKOcXMYZ38"
   },
   "source": [
    "# Move images into class folders"
   ]
  },
  {
   "cell_type": "code",
   "execution_count": null,
   "metadata": {
    "id": "cJQRTSqjYZ4a"
   },
   "outputs": [],
   "source": [
    "def move_and_separate_images(list_of_folders, df_metadata):\n",
    "    df_metadata = df_metadata.set_index('image_id', drop=True)\n",
    "    count = 0\n",
    "    for folder in list_of_folders:\n",
    "        for root, dirs, files in os.walk(folder):\n",
    "            for file in files:\n",
    "                try:\n",
    "                    os.makedirs(f'dataset/{df_metadata.loc[file.strip('.jpg'), 'dx']}')\n",
    "                except:\n",
    "                    source=os.path.join(root, file)\n",
    "                    destination=os.path.join('dataset', df_metadata.loc[file.strip('.jpg'), 'dx'], file)\n",
    "                    os.rename(source,destination)\n",
    "                    count += 1\n",
    "                    if count%100 == 0:\n",
    "                        print(f'{count} images were processed')"
   ]
  },
  {
   "cell_type": "code",
   "execution_count": null,
   "metadata": {
    "id": "TMuxfLJ-YZ4b"
   },
   "outputs": [],
   "source": [
    "df = pd.read_csv('HAM10000_metadata.csv')\n",
    "\n",
    "move_and_separate_images(['HAM10000_images_part_1', 'HAM10000_images_part_2'], df)"
   ]
  },
  {
   "cell_type": "markdown",
   "metadata": {},
   "source": [
    "# Make arrays"
   ]
  },
  {
   "cell_type": "code",
   "execution_count": 4,
   "metadata": {
    "id": "RMe2KXHYYZ3-"
   },
   "outputs": [],
   "source": [
    "def array_from_images(folder, df_metadata, dict_of_labels, h=224, w=224, channels=3):\n",
    "    # Create an array of images and labels the size of the number of pictures\n",
    "    nb_files = 0\n",
    "    for root, dirs, files in os.walk(folder):\n",
    "        for file in files:\n",
    "            nb_files += 1\n",
    "    array = np.zeros(shape=(nb_files, h, w, channels))\n",
    "    labels = np.zeros(shape=(nb_files,))\n",
    "\n",
    "    # Check the name and fill array and labels\n",
    "    df_metadata = df_metadata.set_index('image_id', drop=True)\n",
    "    count = 0\n",
    "\n",
    "    for root, dirs, files in os.walk(folder):\n",
    "        for file in files:\n",
    "            with Image.open(os.path.join(root, file)) as im:\n",
    "                array[count,:,:,:] = np.asarray(im.resize((h,w)))\n",
    "                labels[count] = dict_of_labels[df_metadata.loc[file.strip('.jpg'), 'dx']]\n",
    "                count += 1\n",
    "                if count%1000 == 0:\n",
    "                    print(f'{count} images were processed')\n",
    "    return array, labels"
   ]
  },
  {
   "cell_type": "code",
   "execution_count": 5,
   "metadata": {
    "collapsed": true,
    "id": "wXfmnnH1YZ3_",
    "outputId": "caf9c7d6-299d-4569-cbc9-647f005a16d8"
   },
   "outputs": [
    {
     "name": "stdout",
     "output_type": "stream",
     "text": [
      "1000 images were processed\n",
      "2000 images were processed\n",
      "3000 images were processed\n",
      "4000 images were processed\n",
      "5000 images were processed\n",
      "6000 images were processed\n",
      "7000 images were processed\n",
      "8000 images were processed\n",
      "9000 images were processed\n",
      "10000 images were processed\n"
     ]
    }
   ],
   "source": [
    "df = pd.read_csv('HAM10000_metadata.csv')\n",
    "dict_label = {k:v for k,v in zip(set(df['dx']), range(7))}\n",
    "\n",
    "X, y = array_from_images('dataset/', df, dict_label, h=64, w=64)\n"
   ]
  },
  {
   "cell_type": "code",
   "execution_count": 6,
   "metadata": {},
   "outputs": [],
   "source": [
    "np.savez_compressed('X', X, allow_pickle=True)\n",
    "np.savez_compressed('y', y, allow_pickle=True)"
   ]
  },
  {
   "cell_type": "markdown",
   "metadata": {},
   "source": [
    "# Load arrays"
   ]
  },
  {
   "cell_type": "code",
   "execution_count": 2,
   "metadata": {
    "executionInfo": {
     "elapsed": 40,
     "status": "ok",
     "timestamp": 1742156799969,
     "user": {
      "displayName": "Dimitri Caputo",
      "userId": "12075933984764029925"
     },
     "user_tz": -60
    },
    "id": "XPerG9OeY6Bm"
   },
   "outputs": [],
   "source": [
    "data_X = np.load('X.npz')\n",
    "data_y = np.load('y.npz')"
   ]
  },
  {
   "cell_type": "code",
   "execution_count": 3,
   "metadata": {
    "executionInfo": {
     "elapsed": 7584,
     "status": "ok",
     "timestamp": 1742156824967,
     "user": {
      "displayName": "Dimitri Caputo",
      "userId": "12075933984764029925"
     },
     "user_tz": -60
    },
    "id": "3RRtTy_0ZL0i"
   },
   "outputs": [],
   "source": [
    "X = data_X['arr_0']\n",
    "y = data_y['arr_0']"
   ]
  },
  {
   "cell_type": "code",
   "execution_count": 6,
   "metadata": {
    "executionInfo": {
     "elapsed": 1044,
     "status": "ok",
     "timestamp": 1742156874055,
     "user": {
      "displayName": "Dimitri Caputo",
      "userId": "12075933984764029925"
     },
     "user_tz": -60
    },
    "id": "YQWIcLFUYZ4B"
   },
   "outputs": [],
   "source": [
    "from sklearn.model_selection import train_test_split\n",
    "\n",
    "X_train, X_temp, y_train, y_temp = train_test_split(X, y, stratify=y, test_size=0.2, random_state=38)\n",
    "\n",
    "del X, y\n",
    "\n",
    "X_test, X_val, y_test, y_val = train_test_split(X_temp, y_temp, stratify=y_temp, test_size=0.5, random_state=38)\n",
    "\n",
    "del X_temp, y_temp"
   ]
  },
  {
   "cell_type": "markdown",
   "metadata": {
    "id": "wy2K0zqVYZ4N"
   },
   "source": [
    "# SMOTETOMEK"
   ]
  },
  {
   "cell_type": "code",
   "execution_count": 7,
   "metadata": {
    "colab": {
     "base_uri": "https://localhost:8080/"
    },
    "executionInfo": {
     "elapsed": 855220,
     "status": "ok",
     "timestamp": 1741377156881,
     "user": {
      "displayName": "Dimitri Caputo",
      "userId": "12075933984764029925"
     },
     "user_tz": -60
    },
    "id": "I5f-Z8aOYZ4O",
    "outputId": "aa74acca-cf2d-4743-b399-9142749c28df"
   },
   "outputs": [
    {
     "data": {
      "text/plain": [
       "(37541, 12288)"
      ]
     },
     "execution_count": 7,
     "metadata": {},
     "output_type": "execute_result"
    }
   ],
   "source": [
    "X_train = np.reshape(X_train, (shape_origin[0], shape_origin[1]*shape_origin[2]*shape_origin[3]))\n",
    "\n",
    "smotetomek = SMOTETomek(random_state=38, n_jobs=-1)\n",
    "\n",
    "X_train, y_train = smotetomek.fit_resample(X_train, y_train)\n",
    "\n",
    "X_train = np.reshape(X_train, (X_train.shape[0], shape_origin[1], shape_origin[2], shape_origin[3]))\n",
    "\n"
   ]
  },
  {
   "cell_type": "markdown",
   "metadata": {
    "id": "eugcgC1Ihbe7"
   },
   "source": [
    "# To categorical"
   ]
  },
  {
   "cell_type": "code",
   "execution_count": 7,
   "metadata": {
    "executionInfo": {
     "elapsed": 50,
     "status": "ok",
     "timestamp": 1742156903324,
     "user": {
      "displayName": "Dimitri Caputo",
      "userId": "12075933984764029925"
     },
     "user_tz": -60
    },
    "id": "GZnGDhBaYZ4V"
   },
   "outputs": [],
   "source": [
    "y_train = to_categorical(y_train)\n",
    "y_val = to_categorical(y_val)\n",
    "y_test = to_categorical(y_test)"
   ]
  },
  {
   "cell_type": "markdown",
   "metadata": {
    "id": "hofZJHSSYZ4d"
   },
   "source": [
    "# Helper functions"
   ]
  },
  {
   "cell_type": "code",
   "execution_count": 8,
   "metadata": {
    "executionInfo": {
     "elapsed": 5,
     "status": "ok",
     "timestamp": 1742156960318,
     "user": {
      "displayName": "Dimitri Caputo",
      "userId": "12075933984764029925"
     },
     "user_tz": -60
    },
    "id": "9ZlCHMEhYZ4e"
   },
   "outputs": [],
   "source": [
    "def get_earlystopping(patience=10):\n",
    "    early_stopping = EarlyStopping(\n",
    "    monitor='val_f1_score',\n",
    "    patience=patience,\n",
    "    verbose=1,\n",
    "    restore_best_weights=True)\n",
    "    return early_stopping"
   ]
  },
  {
   "cell_type": "code",
   "execution_count": 9,
   "metadata": {
    "executionInfo": {
     "elapsed": 7,
     "status": "ok",
     "timestamp": 1742156960330,
     "user": {
      "displayName": "Dimitri Caputo",
      "userId": "12075933984764029925"
     },
     "user_tz": -60
    },
    "id": "-cFyIbR9YZ4f"
   },
   "outputs": [],
   "source": [
    "def plot_learning_curves(model):\n",
    "    fig, ax = plt.subplots(1,3, figsize=(15,5))\n",
    "    ax[0].plot(model.history.history['val_f1_score'], label='val_f1_score')\n",
    "    ax[0].plot(model.history.history['f1_score'], label='f1_score')\n",
    "    ax[0].legend()\n",
    "    try:\n",
    "        ax[1].plot(model.history.history['val_accuracy'], label='val_accuracy')\n",
    "        ax[1].plot(model.history.history['accuracy'], label='accuracy')\n",
    "        ax[1].legend()\n",
    "    except:\n",
    "        ax[1].plot(model.history.history['val_precision_1'], label='val_precision_1')\n",
    "        ax[1].plot(model.history.history['precision_1'], label='precision_1')\n",
    "        ax[1].legend()\n",
    "    ax[2].plot(model.history.history['val_loss'], label='val_loss')\n",
    "    ax[2].plot(model.history.history['loss'], label='loss')\n",
    "    ax[2].legend()\n",
    "    fig.show;"
   ]
  },
  {
   "cell_type": "code",
   "execution_count": 10,
   "metadata": {
    "executionInfo": {
     "elapsed": 11,
     "status": "ok",
     "timestamp": 1742156960338,
     "user": {
      "displayName": "Dimitri Caputo",
      "userId": "12075933984764029925"
     },
     "user_tz": -60
    },
    "id": "9CmLrebcYZ4f"
   },
   "outputs": [],
   "source": [
    "def get_analysis(model, testX, testy):\n",
    "    plot_learning_curves(model)\n",
    "    loss, acc, f1 = model.evaluate(testX, testy)\n",
    "    print(f'The model gave')\n",
    "    print(f'Loss: {loss:.2f}')\n",
    "    print(f'Accuracy: {acc:.2f}')\n",
    "    print(f'F1 Macro: {f1:.2f}')\n",
    "    y_pred = model.predict(testX)\n",
    "    y_res = np.argmax(y_pred, axis=1)\n",
    "    print(classification_report(testy, y_res))\n",
    "    return y_pred, y_res"
   ]
  },
  {
   "cell_type": "code",
   "execution_count": 11,
   "metadata": {
    "executionInfo": {
     "elapsed": 8,
     "status": "ok",
     "timestamp": 1742156960342,
     "user": {
      "displayName": "Dimitri Caputo",
      "userId": "12075933984764029925"
     },
     "user_tz": -60
    },
    "id": "vSwR8z6vYZ4g"
   },
   "outputs": [],
   "source": [
    "def get_analysis_cat(model, testX, testy):\n",
    "    plot_learning_curves(model)\n",
    "    loss, acc, f1 = model.evaluate(testX, testy)\n",
    "    print(f'The model gave')\n",
    "    print(f'Loss: {loss:.2f}')\n",
    "    print(f'Accuracy: {acc:.2f}')\n",
    "    print(f'F1 Macro: {f1:.2f}')\n",
    "    predy = model.predict(testX)\n",
    "    resy = to_categorical(np.argmax(predy, axis=1))\n",
    "    print(classification_report(testy,resy))\n",
    "    return predy, resy"
   ]
  },
  {
   "cell_type": "code",
   "execution_count": 12,
   "metadata": {
    "executionInfo": {
     "elapsed": 86,
     "status": "ok",
     "timestamp": 1742156960431,
     "user": {
      "displayName": "Dimitri Caputo",
      "userId": "12075933984764029925"
     },
     "user_tz": -60
    },
    "id": "B6g22E4HYZ4h"
   },
   "outputs": [],
   "source": [
    "def compile_and_train(model, loss, opt, metrics, epochs, patience=None, steps=None):\n",
    "    model.compile(loss=loss,\n",
    "                optimizer=opt,\n",
    "                metrics=metrics)\n",
    "\n",
    "    model.summary()\n",
    "\n",
    "    if patience != None:\n",
    "        model.fit(\n",
    "            X_train,\n",
    "            y_train,\n",
    "            epochs=epochs,\n",
    "            validation_data=(X_val, y_val),\n",
    "            callbacks=[get_earlystopping(patience)],\n",
    "            steps_per_epoch=steps\n",
    "            )\n",
    "    else:\n",
    "        model.fit(\n",
    "            X_train,\n",
    "            y_train,\n",
    "            epochs=epochs,\n",
    "            validation_data=(X_val, y_val),\n",
    "            steps_per_epoch=steps\n",
    "            )\n",
    "\n",
    "    return model"
   ]
  },
  {
   "cell_type": "markdown",
   "metadata": {
    "id": "Z-89oUqvkJKb"
   },
   "source": [
    "# Model"
   ]
  },
  {
   "cell_type": "code",
   "execution_count": 16,
   "metadata": {},
   "outputs": [],
   "source": [
    "filters = 32"
   ]
  },
  {
   "cell_type": "code",
   "execution_count": 18,
   "metadata": {
    "colab": {
     "base_uri": "https://localhost:8080/",
     "height": 1000
    },
    "executionInfo": {
     "elapsed": 394176,
     "status": "ok",
     "timestamp": 1741548874606,
     "user": {
      "displayName": "Dimitri Caputo",
      "userId": "12075933984764029925"
     },
     "user_tz": -60
    },
    "id": "nSGuYKWfjv1y",
    "outputId": "4ff9fcb9-d671-49ac-d1a2-a4d7bf59628f"
   },
   "outputs": [
    {
     "name": "stderr",
     "output_type": "stream",
     "text": [
      "2025-04-04 11:40:57.922206: W external/local_xla/xla/tsl/framework/bfc_allocator.cc:497] Allocator (GPU_0_bfc) ran out of memory trying to allocate 18.0KiB (rounded to 18432)requested by op Mul\n",
      "If the cause is memory fragmentation maybe the environment variable 'TF_GPU_ALLOCATOR=cuda_malloc_async' will improve the situation. \n",
      "Current allocation summary follows.\n",
      "Current allocation summary follows.\n",
      "2025-04-04 11:40:57.922251: I external/local_xla/xla/tsl/framework/bfc_allocator.cc:1053] BFCAllocator dump for GPU_0_bfc\n",
      "2025-04-04 11:40:57.922261: I external/local_xla/xla/tsl/framework/bfc_allocator.cc:1060] Bin (256): \tTotal Chunks: 65, Chunks in use: 65. 16.2KiB allocated for chunks. 16.2KiB in use in bin. 3.9KiB client-requested in use in bin.\n",
      "2025-04-04 11:40:57.922269: I external/local_xla/xla/tsl/framework/bfc_allocator.cc:1060] Bin (512): \tTotal Chunks: 1, Chunks in use: 1. 512B allocated for chunks. 512B in use in bin. 448B client-requested in use in bin.\n",
      "2025-04-04 11:40:57.922276: I external/local_xla/xla/tsl/framework/bfc_allocator.cc:1060] Bin (1024): \tTotal Chunks: 4, Chunks in use: 3. 5.8KiB allocated for chunks. 4.8KiB in use in bin. 4.4KiB client-requested in use in bin.\n",
      "2025-04-04 11:40:57.922309: I external/local_xla/xla/tsl/framework/bfc_allocator.cc:1060] Bin (2048): \tTotal Chunks: 1, Chunks in use: 0. 3.8KiB allocated for chunks. 0B in use in bin. 0B client-requested in use in bin.\n",
      "2025-04-04 11:40:57.922325: I external/local_xla/xla/tsl/framework/bfc_allocator.cc:1060] Bin (4096): \tTotal Chunks: 0, Chunks in use: 0. 0B allocated for chunks. 0B in use in bin. 0B client-requested in use in bin.\n",
      "2025-04-04 11:40:57.922337: I external/local_xla/xla/tsl/framework/bfc_allocator.cc:1060] Bin (8192): \tTotal Chunks: 2, Chunks in use: 1. 18.0KiB allocated for chunks. 8.0KiB in use in bin. 8.0KiB client-requested in use in bin.\n",
      "2025-04-04 11:40:57.922349: I external/local_xla/xla/tsl/framework/bfc_allocator.cc:1060] Bin (16384): \tTotal Chunks: 10, Chunks in use: 10. 181.8KiB allocated for chunks. 181.8KiB in use in bin. 180.0KiB client-requested in use in bin.\n",
      "2025-04-04 11:40:57.922359: I external/local_xla/xla/tsl/framework/bfc_allocator.cc:1060] Bin (32768): \tTotal Chunks: 0, Chunks in use: 0. 0B allocated for chunks. 0B in use in bin. 0B client-requested in use in bin.\n",
      "2025-04-04 11:40:57.922385: I external/local_xla/xla/tsl/framework/bfc_allocator.cc:1060] Bin (65536): \tTotal Chunks: 0, Chunks in use: 0. 0B allocated for chunks. 0B in use in bin. 0B client-requested in use in bin.\n",
      "2025-04-04 11:40:57.922399: I external/local_xla/xla/tsl/framework/bfc_allocator.cc:1060] Bin (131072): \tTotal Chunks: 0, Chunks in use: 0. 0B allocated for chunks. 0B in use in bin. 0B client-requested in use in bin.\n",
      "2025-04-04 11:40:57.922428: I external/local_xla/xla/tsl/framework/bfc_allocator.cc:1060] Bin (262144): \tTotal Chunks: 0, Chunks in use: 0. 0B allocated for chunks. 0B in use in bin. 0B client-requested in use in bin.\n",
      "2025-04-04 11:40:57.922473: I external/local_xla/xla/tsl/framework/bfc_allocator.cc:1060] Bin (524288): \tTotal Chunks: 0, Chunks in use: 0. 0B allocated for chunks. 0B in use in bin. 0B client-requested in use in bin.\n",
      "2025-04-04 11:40:57.922485: I external/local_xla/xla/tsl/framework/bfc_allocator.cc:1060] Bin (1048576): \tTotal Chunks: 0, Chunks in use: 0. 0B allocated for chunks. 0B in use in bin. 0B client-requested in use in bin.\n",
      "2025-04-04 11:40:57.922498: I external/local_xla/xla/tsl/framework/bfc_allocator.cc:1060] Bin (2097152): \tTotal Chunks: 0, Chunks in use: 0. 0B allocated for chunks. 0B in use in bin. 0B client-requested in use in bin.\n",
      "2025-04-04 11:40:57.922510: I external/local_xla/xla/tsl/framework/bfc_allocator.cc:1060] Bin (4194304): \tTotal Chunks: 0, Chunks in use: 0. 0B allocated for chunks. 0B in use in bin. 0B client-requested in use in bin.\n",
      "2025-04-04 11:40:57.922539: I external/local_xla/xla/tsl/framework/bfc_allocator.cc:1060] Bin (8388608): \tTotal Chunks: 0, Chunks in use: 0. 0B allocated for chunks. 0B in use in bin. 0B client-requested in use in bin.\n",
      "2025-04-04 11:40:57.922560: I external/local_xla/xla/tsl/framework/bfc_allocator.cc:1060] Bin (16777216): \tTotal Chunks: 0, Chunks in use: 0. 0B allocated for chunks. 0B in use in bin. 0B client-requested in use in bin.\n",
      "2025-04-04 11:40:57.922590: I external/local_xla/xla/tsl/framework/bfc_allocator.cc:1060] Bin (33554432): \tTotal Chunks: 0, Chunks in use: 0. 0B allocated for chunks. 0B in use in bin. 0B client-requested in use in bin.\n",
      "2025-04-04 11:40:57.922608: I external/local_xla/xla/tsl/framework/bfc_allocator.cc:1060] Bin (67108864): \tTotal Chunks: 0, Chunks in use: 0. 0B allocated for chunks. 0B in use in bin. 0B client-requested in use in bin.\n",
      "2025-04-04 11:40:57.922622: I external/local_xla/xla/tsl/framework/bfc_allocator.cc:1060] Bin (134217728): \tTotal Chunks: 0, Chunks in use: 0. 0B allocated for chunks. 0B in use in bin. 0B client-requested in use in bin.\n",
      "2025-04-04 11:40:57.922642: I external/local_xla/xla/tsl/framework/bfc_allocator.cc:1060] Bin (268435456): \tTotal Chunks: 1, Chunks in use: 1. 1.78GiB allocated for chunks. 1.78GiB in use in bin. 1.72GiB client-requested in use in bin.\n",
      "2025-04-04 11:40:57.922661: I external/local_xla/xla/tsl/framework/bfc_allocator.cc:1076] Bin for 18.0KiB was 16.0KiB, Chunk State: \n",
      "2025-04-04 11:40:57.922693: I external/local_xla/xla/tsl/framework/bfc_allocator.cc:1089] Next region of size 1913126912\n",
      "2025-04-04 11:40:57.922709: I external/local_xla/xla/tsl/framework/bfc_allocator.cc:1109] InUse at 7c7dbc000000 of size 1280 next 1\n",
      "2025-04-04 11:40:57.922738: I external/local_xla/xla/tsl/framework/bfc_allocator.cc:1109] InUse at 7c7dbc000500 of size 256 next 2\n",
      "2025-04-04 11:40:57.922755: I external/local_xla/xla/tsl/framework/bfc_allocator.cc:1109] InUse at 7c7dbc000600 of size 256 next 3\n",
      "2025-04-04 11:40:57.922766: I external/local_xla/xla/tsl/framework/bfc_allocator.cc:1109] InUse at 7c7dbc000700 of size 256 next 4\n",
      "2025-04-04 11:40:57.922906: I external/local_xla/xla/tsl/framework/bfc_allocator.cc:1109] InUse at 7c7dbc000800 of size 256 next 5\n",
      "2025-04-04 11:40:57.922940: I external/local_xla/xla/tsl/framework/bfc_allocator.cc:1109] InUse at 7c7dbc000900 of size 256 next 6\n",
      "2025-04-04 11:40:57.922963: I external/local_xla/xla/tsl/framework/bfc_allocator.cc:1109] InUse at 7c7dbc000a00 of size 256 next 7\n",
      "2025-04-04 11:40:57.922989: I external/local_xla/xla/tsl/framework/bfc_allocator.cc:1109] InUse at 7c7dbc000b00 of size 256 next 8\n",
      "2025-04-04 11:40:57.923015: I external/local_xla/xla/tsl/framework/bfc_allocator.cc:1109] InUse at 7c7dbc000c00 of size 256 next 9\n",
      "2025-04-04 11:40:57.923027: I external/local_xla/xla/tsl/framework/bfc_allocator.cc:1109] InUse at 7c7dbc000d00 of size 256 next 10\n",
      "2025-04-04 11:40:57.923039: I external/local_xla/xla/tsl/framework/bfc_allocator.cc:1109] InUse at 7c7dbc000e00 of size 256 next 11\n",
      "2025-04-04 11:40:57.923050: I external/local_xla/xla/tsl/framework/bfc_allocator.cc:1109] InUse at 7c7dbc000f00 of size 256 next 13\n",
      "2025-04-04 11:40:57.923061: I external/local_xla/xla/tsl/framework/bfc_allocator.cc:1109] InUse at 7c7dbc001000 of size 256 next 14\n",
      "2025-04-04 11:40:57.923071: I external/local_xla/xla/tsl/framework/bfc_allocator.cc:1109] InUse at 7c7dbc001100 of size 256 next 12\n",
      "2025-04-04 11:40:57.923081: I external/local_xla/xla/tsl/framework/bfc_allocator.cc:1109] InUse at 7c7dbc001200 of size 256 next 15\n",
      "2025-04-04 11:40:57.923090: I external/local_xla/xla/tsl/framework/bfc_allocator.cc:1109] InUse at 7c7dbc001300 of size 256 next 20\n",
      "2025-04-04 11:40:57.923099: I external/local_xla/xla/tsl/framework/bfc_allocator.cc:1109] InUse at 7c7dbc001400 of size 256 next 18\n",
      "2025-04-04 11:40:57.923108: I external/local_xla/xla/tsl/framework/bfc_allocator.cc:1109] InUse at 7c7dbc001500 of size 256 next 19\n",
      "2025-04-04 11:40:57.923120: I external/local_xla/xla/tsl/framework/bfc_allocator.cc:1109] InUse at 7c7dbc001600 of size 256 next 23\n",
      "2025-04-04 11:40:57.923130: I external/local_xla/xla/tsl/framework/bfc_allocator.cc:1109] InUse at 7c7dbc001700 of size 256 next 24\n",
      "2025-04-04 11:40:57.923140: I external/local_xla/xla/tsl/framework/bfc_allocator.cc:1109] InUse at 7c7dbc001800 of size 256 next 26\n",
      "2025-04-04 11:40:57.923152: I external/local_xla/xla/tsl/framework/bfc_allocator.cc:1109] InUse at 7c7dbc001900 of size 256 next 28\n",
      "2025-04-04 11:40:57.923181: I external/local_xla/xla/tsl/framework/bfc_allocator.cc:1109] InUse at 7c7dbc001a00 of size 256 next 25\n",
      "2025-04-04 11:40:57.923198: I external/local_xla/xla/tsl/framework/bfc_allocator.cc:1109] InUse at 7c7dbc001b00 of size 256 next 30\n",
      "2025-04-04 11:40:57.923207: I external/local_xla/xla/tsl/framework/bfc_allocator.cc:1109] InUse at 7c7dbc001c00 of size 256 next 27\n",
      "2025-04-04 11:40:57.923215: I external/local_xla/xla/tsl/framework/bfc_allocator.cc:1109] InUse at 7c7dbc001d00 of size 256 next 32\n",
      "2025-04-04 11:40:57.923222: I external/local_xla/xla/tsl/framework/bfc_allocator.cc:1109] InUse at 7c7dbc001e00 of size 256 next 34\n",
      "2025-04-04 11:40:57.923231: I external/local_xla/xla/tsl/framework/bfc_allocator.cc:1109] InUse at 7c7dbc001f00 of size 256 next 16\n",
      "2025-04-04 11:40:57.923241: I external/local_xla/xla/tsl/framework/bfc_allocator.cc:1109] InUse at 7c7dbc002000 of size 1792 next 17\n",
      "2025-04-04 11:40:57.923250: I external/local_xla/xla/tsl/framework/bfc_allocator.cc:1109] InUse at 7c7dbc002700 of size 256 next 59\n",
      "2025-04-04 11:40:57.923258: I external/local_xla/xla/tsl/framework/bfc_allocator.cc:1109] InUse at 7c7dbc002800 of size 256 next 61\n",
      "2025-04-04 11:40:57.923265: I external/local_xla/xla/tsl/framework/bfc_allocator.cc:1109] InUse at 7c7dbc002900 of size 256 next 60\n",
      "2025-04-04 11:40:57.923273: I external/local_xla/xla/tsl/framework/bfc_allocator.cc:1109] InUse at 7c7dbc002a00 of size 256 next 62\n",
      "2025-04-04 11:40:57.923290: I external/local_xla/xla/tsl/framework/bfc_allocator.cc:1109] InUse at 7c7dbc002b00 of size 256 next 66\n",
      "2025-04-04 11:40:57.923410: I external/local_xla/xla/tsl/framework/bfc_allocator.cc:1109] InUse at 7c7dbc002c00 of size 256 next 67\n",
      "2025-04-04 11:40:57.923421: I external/local_xla/xla/tsl/framework/bfc_allocator.cc:1109] InUse at 7c7dbc002d00 of size 256 next 65\n",
      "2025-04-04 11:40:57.923444: I external/local_xla/xla/tsl/framework/bfc_allocator.cc:1109] InUse at 7c7dbc002e00 of size 256 next 68\n",
      "2025-04-04 11:40:57.923464: I external/local_xla/xla/tsl/framework/bfc_allocator.cc:1109] InUse at 7c7dbc002f00 of size 256 next 71\n",
      "2025-04-04 11:40:57.923485: I external/local_xla/xla/tsl/framework/bfc_allocator.cc:1109] InUse at 7c7dbc003000 of size 256 next 72\n",
      "2025-04-04 11:40:57.923494: I external/local_xla/xla/tsl/framework/bfc_allocator.cc:1109] InUse at 7c7dbc003100 of size 256 next 69\n",
      "2025-04-04 11:40:57.923517: I external/local_xla/xla/tsl/framework/bfc_allocator.cc:1109] InUse at 7c7dbc003200 of size 512 next 70\n",
      "2025-04-04 11:40:57.923528: I external/local_xla/xla/tsl/framework/bfc_allocator.cc:1109] InUse at 7c7dbc003400 of size 256 next 73\n",
      "2025-04-04 11:40:57.923539: I external/local_xla/xla/tsl/framework/bfc_allocator.cc:1109] InUse at 7c7dbc003500 of size 256 next 74\n",
      "2025-04-04 11:40:57.923563: I external/local_xla/xla/tsl/framework/bfc_allocator.cc:1109] InUse at 7c7dbc003600 of size 256 next 75\n",
      "2025-04-04 11:40:57.923569: I external/local_xla/xla/tsl/framework/bfc_allocator.cc:1109] InUse at 7c7dbc003700 of size 256 next 76\n",
      "2025-04-04 11:40:57.923574: I external/local_xla/xla/tsl/framework/bfc_allocator.cc:1109] InUse at 7c7dbc003800 of size 256 next 77\n",
      "2025-04-04 11:40:57.923580: I external/local_xla/xla/tsl/framework/bfc_allocator.cc:1109] Free  at 7c7dbc003900 of size 3840 next 63\n",
      "2025-04-04 11:40:57.923585: I external/local_xla/xla/tsl/framework/bfc_allocator.cc:1109] InUse at 7c7dbc004800 of size 8192 next 64\n",
      "2025-04-04 11:40:57.923591: I external/local_xla/xla/tsl/framework/bfc_allocator.cc:1109] InUse at 7c7dbc006800 of size 20224 next 22\n",
      "2025-04-04 11:40:57.923597: I external/local_xla/xla/tsl/framework/bfc_allocator.cc:1109] InUse at 7c7dbc00b700 of size 18432 next 21\n",
      "2025-04-04 11:40:57.923602: I external/local_xla/xla/tsl/framework/bfc_allocator.cc:1109] InUse at 7c7dbc00ff00 of size 18432 next 29\n",
      "2025-04-04 11:40:57.923612: I external/local_xla/xla/tsl/framework/bfc_allocator.cc:1109] InUse at 7c7dbc014700 of size 18432 next 31\n",
      "2025-04-04 11:40:57.923623: I external/local_xla/xla/tsl/framework/bfc_allocator.cc:1109] InUse at 7c7dbc018f00 of size 256 next 33\n",
      "2025-04-04 11:40:57.923632: I external/local_xla/xla/tsl/framework/bfc_allocator.cc:1109] InUse at 7c7dbc019000 of size 256 next 35\n",
      "2025-04-04 11:40:57.923643: I external/local_xla/xla/tsl/framework/bfc_allocator.cc:1109] InUse at 7c7dbc019100 of size 256 next 38\n",
      "2025-04-04 11:40:57.923655: I external/local_xla/xla/tsl/framework/bfc_allocator.cc:1109] InUse at 7c7dbc019200 of size 256 next 40\n",
      "2025-04-04 11:40:57.923663: I external/local_xla/xla/tsl/framework/bfc_allocator.cc:1109] InUse at 7c7dbc019300 of size 256 next 42\n",
      "2025-04-04 11:40:57.923673: I external/local_xla/xla/tsl/framework/bfc_allocator.cc:1109] InUse at 7c7dbc019400 of size 256 next 44\n",
      "2025-04-04 11:40:57.923698: I external/local_xla/xla/tsl/framework/bfc_allocator.cc:1109] InUse at 7c7dbc019500 of size 256 next 41\n",
      "2025-04-04 11:40:57.923706: I external/local_xla/xla/tsl/framework/bfc_allocator.cc:1109] InUse at 7c7dbc019600 of size 256 next 46\n",
      "2025-04-04 11:40:57.923714: I external/local_xla/xla/tsl/framework/bfc_allocator.cc:1109] InUse at 7c7dbc019700 of size 256 next 43\n",
      "2025-04-04 11:40:57.923734: I external/local_xla/xla/tsl/framework/bfc_allocator.cc:1109] InUse at 7c7dbc019800 of size 256 next 48\n",
      "2025-04-04 11:40:57.923742: I external/local_xla/xla/tsl/framework/bfc_allocator.cc:1109] InUse at 7c7dbc019900 of size 256 next 50\n",
      "2025-04-04 11:40:57.923769: I external/local_xla/xla/tsl/framework/bfc_allocator.cc:1109] InUse at 7c7dbc019a00 of size 256 next 52\n",
      "2025-04-04 11:40:57.923777: I external/local_xla/xla/tsl/framework/bfc_allocator.cc:1109] InUse at 7c7dbc019b00 of size 256 next 49\n",
      "2025-04-04 11:40:57.923785: I external/local_xla/xla/tsl/framework/bfc_allocator.cc:1109] InUse at 7c7dbc019c00 of size 256 next 54\n",
      "2025-04-04 11:40:57.923792: I external/local_xla/xla/tsl/framework/bfc_allocator.cc:1109] InUse at 7c7dbc019d00 of size 256 next 51\n",
      "2025-04-04 11:40:57.923813: I external/local_xla/xla/tsl/framework/bfc_allocator.cc:1109] InUse at 7c7dbc019e00 of size 256 next 56\n",
      "2025-04-04 11:40:57.923821: I external/local_xla/xla/tsl/framework/bfc_allocator.cc:1109] InUse at 7c7dbc019f00 of size 256 next 57\n",
      "2025-04-04 11:40:57.923828: I external/local_xla/xla/tsl/framework/bfc_allocator.cc:1109] InUse at 7c7dbc01a000 of size 256 next 58\n",
      "2025-04-04 11:40:57.923835: I external/local_xla/xla/tsl/framework/bfc_allocator.cc:1109] InUse at 7c7dbc01a100 of size 256 next 78\n",
      "2025-04-04 11:40:57.923843: I external/local_xla/xla/tsl/framework/bfc_allocator.cc:1109] InUse at 7c7dbc01a200 of size 256 next 79\n",
      "2025-04-04 11:40:57.923866: I external/local_xla/xla/tsl/framework/bfc_allocator.cc:1109] InUse at 7c7dbc01a300 of size 256 next 80\n",
      "2025-04-04 11:40:57.923873: I external/local_xla/xla/tsl/framework/bfc_allocator.cc:1109] InUse at 7c7dbc01a400 of size 256 next 83\n",
      "2025-04-04 11:40:57.923881: I external/local_xla/xla/tsl/framework/bfc_allocator.cc:1109] Free  at 7c7dbc01a500 of size 1024 next 81\n",
      "2025-04-04 11:40:57.923889: I external/local_xla/xla/tsl/framework/bfc_allocator.cc:1109] InUse at 7c7dbc01a900 of size 1792 next 82\n",
      "2025-04-04 11:40:57.923909: I external/local_xla/xla/tsl/framework/bfc_allocator.cc:1109] Free  at 7c7dbc01b000 of size 10240 next 36\n",
      "2025-04-04 11:40:57.923917: I external/local_xla/xla/tsl/framework/bfc_allocator.cc:1109] InUse at 7c7dbc01d800 of size 18432 next 37\n",
      "2025-04-04 11:40:57.923946: I external/local_xla/xla/tsl/framework/bfc_allocator.cc:1109] InUse at 7c7dbc022000 of size 18432 next 39\n",
      "2025-04-04 11:40:57.923953: I external/local_xla/xla/tsl/framework/bfc_allocator.cc:1109] InUse at 7c7dbc026800 of size 18432 next 45\n",
      "2025-04-04 11:40:57.923961: I external/local_xla/xla/tsl/framework/bfc_allocator.cc:1109] InUse at 7c7dbc02b000 of size 18432 next 47\n",
      "2025-04-04 11:40:57.923969: I external/local_xla/xla/tsl/framework/bfc_allocator.cc:1109] InUse at 7c7dbc02f800 of size 18432 next 53\n",
      "2025-04-04 11:40:57.923990: I external/local_xla/xla/tsl/framework/bfc_allocator.cc:1109] InUse at 7c7dbc034000 of size 18432 next 55\n",
      "2025-04-04 11:40:57.923998: I external/local_xla/xla/tsl/framework/bfc_allocator.cc:1109] InUse at 7c7dbc038800 of size 1912895488 next 18446744073709551615\n",
      "2025-04-04 11:40:57.924006: I external/local_xla/xla/tsl/framework/bfc_allocator.cc:1114]      Summary of in-use Chunks by size: \n",
      "2025-04-04 11:40:57.924022: I external/local_xla/xla/tsl/framework/bfc_allocator.cc:1117] 65 Chunks of size 256 totalling 16.2KiB\n",
      "2025-04-04 11:40:57.924033: I external/local_xla/xla/tsl/framework/bfc_allocator.cc:1117] 1 Chunks of size 512 totalling 512B\n",
      "2025-04-04 11:40:57.924042: I external/local_xla/xla/tsl/framework/bfc_allocator.cc:1117] 1 Chunks of size 1280 totalling 1.2KiB\n",
      "2025-04-04 11:40:57.924067: I external/local_xla/xla/tsl/framework/bfc_allocator.cc:1117] 2 Chunks of size 1792 totalling 3.5KiB\n",
      "2025-04-04 11:40:57.924076: I external/local_xla/xla/tsl/framework/bfc_allocator.cc:1117] 1 Chunks of size 8192 totalling 8.0KiB\n",
      "2025-04-04 11:40:57.924101: I external/local_xla/xla/tsl/framework/bfc_allocator.cc:1117] 9 Chunks of size 18432 totalling 162.0KiB\n",
      "2025-04-04 11:40:57.924124: I external/local_xla/xla/tsl/framework/bfc_allocator.cc:1117] 1 Chunks of size 20224 totalling 19.8KiB\n",
      "2025-04-04 11:40:57.924134: I external/local_xla/xla/tsl/framework/bfc_allocator.cc:1117] 1 Chunks of size 1912895488 totalling 1.78GiB\n",
      "2025-04-04 11:40:57.924143: I external/local_xla/xla/tsl/framework/bfc_allocator.cc:1121] Sum Total of in-use chunks: 1.78GiB\n",
      "2025-04-04 11:40:57.924152: I external/local_xla/xla/tsl/framework/bfc_allocator.cc:1123] Total bytes in pool: 1913126912 memory_limit_: 1913126912 available bytes: 0 curr_region_allocation_bytes_: 3826253824\n",
      "2025-04-04 11:40:57.924181: I external/local_xla/xla/tsl/framework/bfc_allocator.cc:1128] Stats: \n",
      "Limit:                      1913126912\n",
      "InUse:                      1913111808\n",
      "MaxInUse:                   1913111808\n",
      "NumAllocs:                         211\n",
      "MaxAllocSize:               1912895488\n",
      "Reserved:                            0\n",
      "PeakReserved:                        0\n",
      "LargestFreeBlock:                    0\n",
      "\n",
      "2025-04-04 11:40:57.924201: W external/local_xla/xla/tsl/framework/bfc_allocator.cc:508] *************************************************************************************************xxx\n",
      "2025-04-04 11:40:57.943606: W tensorflow/core/framework/op_kernel.cc:1829] RESOURCE_EXHAUSTED: failed to allocate memory\n",
      "2025-04-04 11:40:57.943648: I tensorflow/core/framework/local_rendezvous.cc:405] Local rendezvous is aborting with status: RESOURCE_EXHAUSTED: failed to allocate memory\n"
     ]
    },
    {
     "ename": "ResourceExhaustedError",
     "evalue": "{{function_node __wrapped__Mul_device_/job:localhost/replica:0/task:0/device:GPU:0}} failed to allocate memory [Op:Mul] name: ",
     "output_type": "error",
     "traceback": [
      "\u001b[0;31m---------------------------------------------------------------------------\u001b[0m",
      "\u001b[0;31mResourceExhaustedError\u001b[0m                    Traceback (most recent call last)",
      "Cell \u001b[0;32mIn[18], line 1\u001b[0m\n\u001b[0;32m----> 1\u001b[0m model_020 \u001b[38;5;241m=\u001b[39m \u001b[43mSequential\u001b[49m\u001b[43m(\u001b[49m\u001b[43m[\u001b[49m\n\u001b[1;32m      2\u001b[0m \u001b[43m    \u001b[49m\u001b[43mInput\u001b[49m\u001b[43m(\u001b[49m\u001b[43mshape\u001b[49m\u001b[38;5;241;43m=\u001b[39;49m\u001b[43m(\u001b[49m\u001b[43mX_train\u001b[49m\u001b[38;5;241;43m.\u001b[39;49m\u001b[43mshape\u001b[49m\u001b[43m[\u001b[49m\u001b[38;5;241;43m1\u001b[39;49m\u001b[43m:\u001b[49m\u001b[43m]\u001b[49m\u001b[43m)\u001b[49m\u001b[43m)\u001b[49m\u001b[43m,\u001b[49m\n\u001b[1;32m      3\u001b[0m \u001b[43m    \u001b[49m\u001b[43mRescaling\u001b[49m\u001b[43m(\u001b[49m\u001b[38;5;241;43m1.\u001b[39;49m\u001b[38;5;241;43m/\u001b[39;49m\u001b[38;5;241;43m255\u001b[39;49m\u001b[43m)\u001b[49m\u001b[43m,\u001b[49m\n\u001b[1;32m      4\u001b[0m \u001b[43m    \u001b[49m\u001b[38;5;66;43;03m# RandomFlip('horizontal and vertical'),\u001b[39;49;00m\n\u001b[1;32m      5\u001b[0m \u001b[43m    \u001b[49m\u001b[38;5;66;43;03m# RandomRotation(factor=(-0.3, 0.3)),\u001b[39;49;00m\n\u001b[1;32m      6\u001b[0m \u001b[43m    \u001b[49m\u001b[38;5;66;43;03m# RandomTranslation(height_factor=(-0.3,0.3), width_factor=(-0.3, 0.3)),\u001b[39;49;00m\n\u001b[1;32m      7\u001b[0m \u001b[43m    \u001b[49m\u001b[38;5;66;43;03m# RandomZoom(height_factor=(-0.3,0.3), width_factor=(-0.3, 0.3)),\u001b[39;49;00m\n\u001b[1;32m      8\u001b[0m \u001b[43m    \u001b[49m\u001b[43mConv2D\u001b[49m\u001b[43m(\u001b[49m\u001b[43mfilters\u001b[49m\u001b[43m,\u001b[49m\u001b[43m \u001b[49m\u001b[43mkernel_size\u001b[49m\u001b[38;5;241;43m=\u001b[39;49m\u001b[38;5;241;43m3\u001b[39;49m\u001b[43m,\u001b[49m\u001b[43m \u001b[49m\u001b[43mpadding\u001b[49m\u001b[38;5;241;43m=\u001b[39;49m\u001b[38;5;124;43m'\u001b[39;49m\u001b[38;5;124;43mSAME\u001b[39;49m\u001b[38;5;124;43m'\u001b[39;49m\u001b[43m,\u001b[49m\u001b[43m \u001b[49m\u001b[43mactivation\u001b[49m\u001b[38;5;241;43m=\u001b[39;49m\u001b[38;5;124;43m'\u001b[39;49m\u001b[38;5;124;43mrelu\u001b[39;49m\u001b[38;5;124;43m'\u001b[39;49m\u001b[43m)\u001b[49m\u001b[43m,\u001b[49m\n\u001b[1;32m      9\u001b[0m \u001b[43m    \u001b[49m\u001b[43mConv2D\u001b[49m\u001b[43m(\u001b[49m\u001b[43mfilters\u001b[49m\u001b[38;5;241;43m*\u001b[39;49m\u001b[38;5;241;43m2\u001b[39;49m\u001b[43m,\u001b[49m\u001b[43m \u001b[49m\u001b[43mkernel_size\u001b[49m\u001b[38;5;241;43m=\u001b[39;49m\u001b[38;5;241;43m3\u001b[39;49m\u001b[43m,\u001b[49m\u001b[43m \u001b[49m\u001b[43mpadding\u001b[49m\u001b[38;5;241;43m=\u001b[39;49m\u001b[38;5;124;43m'\u001b[39;49m\u001b[38;5;124;43mSAME\u001b[39;49m\u001b[38;5;124;43m'\u001b[39;49m\u001b[43m,\u001b[49m\u001b[43m \u001b[49m\u001b[43mactivation\u001b[49m\u001b[38;5;241;43m=\u001b[39;49m\u001b[38;5;124;43m'\u001b[39;49m\u001b[38;5;124;43mrelu\u001b[39;49m\u001b[38;5;124;43m'\u001b[39;49m\u001b[43m)\u001b[49m\u001b[43m,\u001b[49m\n\u001b[1;32m     10\u001b[0m \u001b[43m    \u001b[49m\u001b[43mMaxPooling2D\u001b[49m\u001b[43m(\u001b[49m\u001b[43mpool_size\u001b[49m\u001b[38;5;241;43m=\u001b[39;49m\u001b[38;5;241;43m2\u001b[39;49m\u001b[43m)\u001b[49m\u001b[43m,\u001b[49m\n\u001b[1;32m     11\u001b[0m \u001b[43m    \u001b[49m\u001b[43mBatchNormalization\u001b[49m\u001b[43m(\u001b[49m\u001b[43m)\u001b[49m\u001b[43m,\u001b[49m\n\u001b[1;32m     12\u001b[0m \u001b[43m    \u001b[49m\u001b[43mDropout\u001b[49m\u001b[43m(\u001b[49m\u001b[38;5;241;43m0.2\u001b[39;49m\u001b[43m)\u001b[49m\u001b[43m,\u001b[49m\n\u001b[1;32m     13\u001b[0m \u001b[43m    \u001b[49m\u001b[43mConv2D\u001b[49m\u001b[43m(\u001b[49m\u001b[43mfilters\u001b[49m\u001b[43m,\u001b[49m\u001b[43m \u001b[49m\u001b[43mkernel_size\u001b[49m\u001b[38;5;241;43m=\u001b[39;49m\u001b[38;5;241;43m3\u001b[39;49m\u001b[43m,\u001b[49m\u001b[43m \u001b[49m\u001b[43mpadding\u001b[49m\u001b[38;5;241;43m=\u001b[39;49m\u001b[38;5;124;43m'\u001b[39;49m\u001b[38;5;124;43mSAME\u001b[39;49m\u001b[38;5;124;43m'\u001b[39;49m\u001b[43m,\u001b[49m\u001b[43m \u001b[49m\u001b[43mactivation\u001b[49m\u001b[38;5;241;43m=\u001b[39;49m\u001b[38;5;124;43m'\u001b[39;49m\u001b[38;5;124;43mrelu\u001b[39;49m\u001b[38;5;124;43m'\u001b[39;49m\u001b[43m)\u001b[49m\u001b[43m,\u001b[49m\n\u001b[1;32m     14\u001b[0m \u001b[43m    \u001b[49m\u001b[43mConv2D\u001b[49m\u001b[43m(\u001b[49m\u001b[43mfilters\u001b[49m\u001b[38;5;241;43m*\u001b[39;49m\u001b[38;5;241;43m2\u001b[39;49m\u001b[43m,\u001b[49m\u001b[43m \u001b[49m\u001b[43mkernel_size\u001b[49m\u001b[38;5;241;43m=\u001b[39;49m\u001b[38;5;241;43m3\u001b[39;49m\u001b[43m,\u001b[49m\u001b[43m \u001b[49m\u001b[43mpadding\u001b[49m\u001b[38;5;241;43m=\u001b[39;49m\u001b[38;5;124;43m'\u001b[39;49m\u001b[38;5;124;43mSAME\u001b[39;49m\u001b[38;5;124;43m'\u001b[39;49m\u001b[43m,\u001b[49m\u001b[43m \u001b[49m\u001b[43mactivation\u001b[49m\u001b[38;5;241;43m=\u001b[39;49m\u001b[38;5;124;43m'\u001b[39;49m\u001b[38;5;124;43mrelu\u001b[39;49m\u001b[38;5;124;43m'\u001b[39;49m\u001b[43m)\u001b[49m\u001b[43m,\u001b[49m\n\u001b[1;32m     15\u001b[0m \u001b[43m    \u001b[49m\u001b[43mMaxPooling2D\u001b[49m\u001b[43m(\u001b[49m\u001b[43mpool_size\u001b[49m\u001b[38;5;241;43m=\u001b[39;49m\u001b[38;5;241;43m2\u001b[39;49m\u001b[43m)\u001b[49m\u001b[43m,\u001b[49m\n\u001b[1;32m     16\u001b[0m \u001b[43m    \u001b[49m\u001b[43mBatchNormalization\u001b[49m\u001b[43m(\u001b[49m\u001b[43m)\u001b[49m\u001b[43m,\u001b[49m\n\u001b[1;32m     17\u001b[0m \u001b[43m    \u001b[49m\u001b[43mDropout\u001b[49m\u001b[43m(\u001b[49m\u001b[38;5;241;43m0.2\u001b[39;49m\u001b[43m)\u001b[49m\u001b[43m,\u001b[49m\n\u001b[1;32m     18\u001b[0m \u001b[43m    \u001b[49m\u001b[43mConv2D\u001b[49m\u001b[43m(\u001b[49m\u001b[43mfilters\u001b[49m\u001b[43m,\u001b[49m\u001b[43m \u001b[49m\u001b[43mkernel_size\u001b[49m\u001b[38;5;241;43m=\u001b[39;49m\u001b[38;5;241;43m3\u001b[39;49m\u001b[43m,\u001b[49m\u001b[43m \u001b[49m\u001b[43mpadding\u001b[49m\u001b[38;5;241;43m=\u001b[39;49m\u001b[38;5;124;43m'\u001b[39;49m\u001b[38;5;124;43mSAME\u001b[39;49m\u001b[38;5;124;43m'\u001b[39;49m\u001b[43m,\u001b[49m\u001b[43m \u001b[49m\u001b[43mactivation\u001b[49m\u001b[38;5;241;43m=\u001b[39;49m\u001b[38;5;124;43m'\u001b[39;49m\u001b[38;5;124;43mrelu\u001b[39;49m\u001b[38;5;124;43m'\u001b[39;49m\u001b[43m)\u001b[49m\u001b[43m,\u001b[49m\n\u001b[1;32m     19\u001b[0m \u001b[43m    \u001b[49m\u001b[43mConv2D\u001b[49m\u001b[43m(\u001b[49m\u001b[43mfilters\u001b[49m\u001b[38;5;241;43m*\u001b[39;49m\u001b[38;5;241;43m2\u001b[39;49m\u001b[43m,\u001b[49m\u001b[43m \u001b[49m\u001b[43mkernel_size\u001b[49m\u001b[38;5;241;43m=\u001b[39;49m\u001b[38;5;241;43m3\u001b[39;49m\u001b[43m,\u001b[49m\u001b[43m \u001b[49m\u001b[43mpadding\u001b[49m\u001b[38;5;241;43m=\u001b[39;49m\u001b[38;5;124;43m'\u001b[39;49m\u001b[38;5;124;43mSAME\u001b[39;49m\u001b[38;5;124;43m'\u001b[39;49m\u001b[43m,\u001b[49m\u001b[43m \u001b[49m\u001b[43mactivation\u001b[49m\u001b[38;5;241;43m=\u001b[39;49m\u001b[38;5;124;43m'\u001b[39;49m\u001b[38;5;124;43mrelu\u001b[39;49m\u001b[38;5;124;43m'\u001b[39;49m\u001b[43m)\u001b[49m\u001b[43m,\u001b[49m\n\u001b[1;32m     20\u001b[0m \u001b[43m    \u001b[49m\u001b[43mMaxPooling2D\u001b[49m\u001b[43m(\u001b[49m\u001b[43mpool_size\u001b[49m\u001b[38;5;241;43m=\u001b[39;49m\u001b[38;5;241;43m2\u001b[39;49m\u001b[43m)\u001b[49m\u001b[43m,\u001b[49m\n\u001b[1;32m     21\u001b[0m \u001b[43m    \u001b[49m\u001b[43mBatchNormalization\u001b[49m\u001b[43m(\u001b[49m\u001b[43m)\u001b[49m\u001b[43m,\u001b[49m\n\u001b[1;32m     22\u001b[0m \u001b[43m    \u001b[49m\u001b[43mDropout\u001b[49m\u001b[43m(\u001b[49m\u001b[38;5;241;43m0.2\u001b[39;49m\u001b[43m)\u001b[49m\u001b[43m,\u001b[49m\n\u001b[1;32m     23\u001b[0m \u001b[43m    \u001b[49m\u001b[43mConv2D\u001b[49m\u001b[43m(\u001b[49m\u001b[43mfilters\u001b[49m\u001b[43m,\u001b[49m\u001b[43m \u001b[49m\u001b[43mkernel_size\u001b[49m\u001b[38;5;241;43m=\u001b[39;49m\u001b[38;5;241;43m3\u001b[39;49m\u001b[43m,\u001b[49m\u001b[43m \u001b[49m\u001b[43mpadding\u001b[49m\u001b[38;5;241;43m=\u001b[39;49m\u001b[38;5;124;43m'\u001b[39;49m\u001b[38;5;124;43mSAME\u001b[39;49m\u001b[38;5;124;43m'\u001b[39;49m\u001b[43m,\u001b[49m\u001b[43m \u001b[49m\u001b[43mactivation\u001b[49m\u001b[38;5;241;43m=\u001b[39;49m\u001b[38;5;124;43m'\u001b[39;49m\u001b[38;5;124;43mrelu\u001b[39;49m\u001b[38;5;124;43m'\u001b[39;49m\u001b[43m)\u001b[49m\u001b[43m,\u001b[49m\n\u001b[1;32m     24\u001b[0m \u001b[43m    \u001b[49m\u001b[43mConv2D\u001b[49m\u001b[43m(\u001b[49m\u001b[43mfilters\u001b[49m\u001b[38;5;241;43m*\u001b[39;49m\u001b[38;5;241;43m2\u001b[39;49m\u001b[43m,\u001b[49m\u001b[43m \u001b[49m\u001b[43mkernel_size\u001b[49m\u001b[38;5;241;43m=\u001b[39;49m\u001b[38;5;241;43m3\u001b[39;49m\u001b[43m,\u001b[49m\u001b[43m \u001b[49m\u001b[43mpadding\u001b[49m\u001b[38;5;241;43m=\u001b[39;49m\u001b[38;5;124;43m'\u001b[39;49m\u001b[38;5;124;43mSAME\u001b[39;49m\u001b[38;5;124;43m'\u001b[39;49m\u001b[43m,\u001b[49m\u001b[43m \u001b[49m\u001b[43mactivation\u001b[49m\u001b[38;5;241;43m=\u001b[39;49m\u001b[38;5;124;43m'\u001b[39;49m\u001b[38;5;124;43mrelu\u001b[39;49m\u001b[38;5;124;43m'\u001b[39;49m\u001b[43m)\u001b[49m\u001b[43m,\u001b[49m\n\u001b[1;32m     25\u001b[0m \u001b[43m    \u001b[49m\u001b[43mMaxPooling2D\u001b[49m\u001b[43m(\u001b[49m\u001b[43mpool_size\u001b[49m\u001b[38;5;241;43m=\u001b[39;49m\u001b[38;5;241;43m2\u001b[39;49m\u001b[43m)\u001b[49m\u001b[43m,\u001b[49m\n\u001b[1;32m     26\u001b[0m \u001b[43m    \u001b[49m\u001b[43mBatchNormalization\u001b[49m\u001b[43m(\u001b[49m\u001b[43m)\u001b[49m\u001b[43m,\u001b[49m\n\u001b[1;32m     27\u001b[0m \u001b[43m    \u001b[49m\u001b[43mDropout\u001b[49m\u001b[43m(\u001b[49m\u001b[38;5;241;43m0.2\u001b[39;49m\u001b[43m)\u001b[49m\u001b[43m,\u001b[49m\n\u001b[1;32m     28\u001b[0m \u001b[43m    \u001b[49m\u001b[43mFlatten\u001b[49m\u001b[43m(\u001b[49m\u001b[43m)\u001b[49m\u001b[43m,\u001b[49m\n\u001b[1;32m     29\u001b[0m \u001b[43m    \u001b[49m\u001b[43mDense\u001b[49m\u001b[43m(\u001b[49m\u001b[43mfilters\u001b[49m\u001b[43m,\u001b[49m\u001b[43m \u001b[49m\u001b[43mactivation\u001b[49m\u001b[38;5;241;43m=\u001b[39;49m\u001b[38;5;124;43m'\u001b[39;49m\u001b[38;5;124;43mrelu\u001b[39;49m\u001b[38;5;124;43m'\u001b[39;49m\u001b[43m)\u001b[49m\u001b[43m,\u001b[49m\n\u001b[1;32m     30\u001b[0m \u001b[43m    \u001b[49m\u001b[43mDense\u001b[49m\u001b[43m(\u001b[49m\u001b[38;5;241;43m7\u001b[39;49m\u001b[43m,\u001b[49m\u001b[43m \u001b[49m\u001b[43mactivation\u001b[49m\u001b[38;5;241;43m=\u001b[39;49m\u001b[38;5;124;43m'\u001b[39;49m\u001b[38;5;124;43msoftmax\u001b[39;49m\u001b[38;5;124;43m'\u001b[39;49m\u001b[43m)\u001b[49m\n\u001b[1;32m     31\u001b[0m \u001b[43m]\u001b[49m\u001b[43m)\u001b[49m\n\u001b[1;32m     33\u001b[0m history020 \u001b[38;5;241m=\u001b[39m compile_and_train(model_020,\n\u001b[1;32m     34\u001b[0m                                loss\u001b[38;5;241m=\u001b[39mCategoricalFocalCrossentropy(),\n\u001b[1;32m     35\u001b[0m                                opt\u001b[38;5;241m=\u001b[39m\u001b[38;5;124m'\u001b[39m\u001b[38;5;124madam\u001b[39m\u001b[38;5;124m'\u001b[39m,\n\u001b[1;32m     36\u001b[0m                                metrics\u001b[38;5;241m=\u001b[39m[\u001b[38;5;124m'\u001b[39m\u001b[38;5;124maccuracy\u001b[39m\u001b[38;5;124m'\u001b[39m, F1Score(average\u001b[38;5;241m=\u001b[39m\u001b[38;5;124m'\u001b[39m\u001b[38;5;124mmacro\u001b[39m\u001b[38;5;124m'\u001b[39m)],\n\u001b[1;32m     37\u001b[0m                                epochs\u001b[38;5;241m=\u001b[39m\u001b[38;5;241m200\u001b[39m,\n\u001b[1;32m     38\u001b[0m                                patience\u001b[38;5;241m=\u001b[39m\u001b[38;5;28;01mNone\u001b[39;00m)\n",
      "File \u001b[0;32m~/anaconda3/envs/keras-tf/lib/python3.10/site-packages/keras/src/models/sequential.py:76\u001b[0m, in \u001b[0;36mSequential.__init__\u001b[0;34m(self, layers, trainable, name)\u001b[0m\n\u001b[1;32m     74\u001b[0m \u001b[38;5;28;01mfor\u001b[39;00m layer \u001b[38;5;129;01min\u001b[39;00m layers:\n\u001b[1;32m     75\u001b[0m     \u001b[38;5;28mself\u001b[39m\u001b[38;5;241m.\u001b[39madd(layer, rebuild\u001b[38;5;241m=\u001b[39m\u001b[38;5;28;01mFalse\u001b[39;00m)\n\u001b[0;32m---> 76\u001b[0m \u001b[38;5;28;43mself\u001b[39;49m\u001b[38;5;241;43m.\u001b[39;49m\u001b[43m_maybe_rebuild\u001b[49m\u001b[43m(\u001b[49m\u001b[43m)\u001b[49m\n",
      "File \u001b[0;32m~/anaconda3/envs/keras-tf/lib/python3.10/site-packages/keras/src/models/sequential.py:149\u001b[0m, in \u001b[0;36mSequential._maybe_rebuild\u001b[0;34m(self)\u001b[0m\n\u001b[1;32m    147\u001b[0m \u001b[38;5;28;01mif\u001b[39;00m \u001b[38;5;28misinstance\u001b[39m(\u001b[38;5;28mself\u001b[39m\u001b[38;5;241m.\u001b[39m_layers[\u001b[38;5;241m0\u001b[39m], InputLayer) \u001b[38;5;129;01mand\u001b[39;00m \u001b[38;5;28mlen\u001b[39m(\u001b[38;5;28mself\u001b[39m\u001b[38;5;241m.\u001b[39m_layers) \u001b[38;5;241m>\u001b[39m \u001b[38;5;241m1\u001b[39m:\n\u001b[1;32m    148\u001b[0m     input_shape \u001b[38;5;241m=\u001b[39m \u001b[38;5;28mself\u001b[39m\u001b[38;5;241m.\u001b[39m_layers[\u001b[38;5;241m0\u001b[39m]\u001b[38;5;241m.\u001b[39mbatch_shape\n\u001b[0;32m--> 149\u001b[0m     \u001b[38;5;28;43mself\u001b[39;49m\u001b[38;5;241;43m.\u001b[39;49m\u001b[43mbuild\u001b[49m\u001b[43m(\u001b[49m\u001b[43minput_shape\u001b[49m\u001b[43m)\u001b[49m\n\u001b[1;32m    150\u001b[0m \u001b[38;5;28;01melif\u001b[39;00m \u001b[38;5;28mhasattr\u001b[39m(\u001b[38;5;28mself\u001b[39m\u001b[38;5;241m.\u001b[39m_layers[\u001b[38;5;241m0\u001b[39m], \u001b[38;5;124m\"\u001b[39m\u001b[38;5;124minput_shape\u001b[39m\u001b[38;5;124m\"\u001b[39m) \u001b[38;5;129;01mand\u001b[39;00m \u001b[38;5;28mlen\u001b[39m(\u001b[38;5;28mself\u001b[39m\u001b[38;5;241m.\u001b[39m_layers) \u001b[38;5;241m>\u001b[39m \u001b[38;5;241m1\u001b[39m:\n\u001b[1;32m    151\u001b[0m     \u001b[38;5;66;03m# We can build the Sequential model if the first layer has the\u001b[39;00m\n\u001b[1;32m    152\u001b[0m     \u001b[38;5;66;03m# `input_shape` property. This is most commonly found in Functional\u001b[39;00m\n\u001b[1;32m    153\u001b[0m     \u001b[38;5;66;03m# model.\u001b[39;00m\n\u001b[1;32m    154\u001b[0m     input_shape \u001b[38;5;241m=\u001b[39m \u001b[38;5;28mself\u001b[39m\u001b[38;5;241m.\u001b[39m_layers[\u001b[38;5;241m0\u001b[39m]\u001b[38;5;241m.\u001b[39minput_shape\n",
      "File \u001b[0;32m~/anaconda3/envs/keras-tf/lib/python3.10/site-packages/keras/src/layers/layer.py:230\u001b[0m, in \u001b[0;36mLayer.__new__.<locals>.build_wrapper\u001b[0;34m(*args, **kwargs)\u001b[0m\n\u001b[1;32m    228\u001b[0m \u001b[38;5;28;01mwith\u001b[39;00m obj\u001b[38;5;241m.\u001b[39m_open_name_scope():\n\u001b[1;32m    229\u001b[0m     obj\u001b[38;5;241m.\u001b[39m_path \u001b[38;5;241m=\u001b[39m current_path()\n\u001b[0;32m--> 230\u001b[0m     \u001b[43moriginal_build_method\u001b[49m\u001b[43m(\u001b[49m\u001b[38;5;241;43m*\u001b[39;49m\u001b[43margs\u001b[49m\u001b[43m,\u001b[49m\u001b[43m \u001b[49m\u001b[38;5;241;43m*\u001b[39;49m\u001b[38;5;241;43m*\u001b[39;49m\u001b[43mkwargs\u001b[49m\u001b[43m)\u001b[49m\n\u001b[1;32m    231\u001b[0m \u001b[38;5;66;03m# Record build config.\u001b[39;00m\n\u001b[1;32m    232\u001b[0m signature \u001b[38;5;241m=\u001b[39m inspect\u001b[38;5;241m.\u001b[39msignature(original_build_method)\n",
      "File \u001b[0;32m~/anaconda3/envs/keras-tf/lib/python3.10/site-packages/keras/src/models/sequential.py:195\u001b[0m, in \u001b[0;36mSequential.build\u001b[0;34m(self, input_shape)\u001b[0m\n\u001b[1;32m    193\u001b[0m \u001b[38;5;28;01mfor\u001b[39;00m layer \u001b[38;5;129;01min\u001b[39;00m \u001b[38;5;28mself\u001b[39m\u001b[38;5;241m.\u001b[39m_layers[\u001b[38;5;241m1\u001b[39m:]:\n\u001b[1;32m    194\u001b[0m     \u001b[38;5;28;01mtry\u001b[39;00m:\n\u001b[0;32m--> 195\u001b[0m         x \u001b[38;5;241m=\u001b[39m \u001b[43mlayer\u001b[49m\u001b[43m(\u001b[49m\u001b[43mx\u001b[49m\u001b[43m)\u001b[49m\n\u001b[1;32m    196\u001b[0m     \u001b[38;5;28;01mexcept\u001b[39;00m \u001b[38;5;167;01mNotImplementedError\u001b[39;00m:\n\u001b[1;32m    197\u001b[0m         \u001b[38;5;66;03m# Can happen if shape inference is not implemented.\u001b[39;00m\n\u001b[1;32m    198\u001b[0m         \u001b[38;5;66;03m# TODO: consider reverting inbound nodes on layers processed.\u001b[39;00m\n\u001b[1;32m    199\u001b[0m         \u001b[38;5;28;01mreturn\u001b[39;00m\n",
      "File \u001b[0;32m~/anaconda3/envs/keras-tf/lib/python3.10/site-packages/keras/src/utils/traceback_utils.py:122\u001b[0m, in \u001b[0;36mfilter_traceback.<locals>.error_handler\u001b[0;34m(*args, **kwargs)\u001b[0m\n\u001b[1;32m    119\u001b[0m     filtered_tb \u001b[38;5;241m=\u001b[39m _process_traceback_frames(e\u001b[38;5;241m.\u001b[39m__traceback__)\n\u001b[1;32m    120\u001b[0m     \u001b[38;5;66;03m# To get the full stack trace, call:\u001b[39;00m\n\u001b[1;32m    121\u001b[0m     \u001b[38;5;66;03m# `keras.config.disable_traceback_filtering()`\u001b[39;00m\n\u001b[0;32m--> 122\u001b[0m     \u001b[38;5;28;01mraise\u001b[39;00m e\u001b[38;5;241m.\u001b[39mwith_traceback(filtered_tb) \u001b[38;5;28;01mfrom\u001b[39;00m\u001b[38;5;250m \u001b[39m\u001b[38;5;28;01mNone\u001b[39;00m\n\u001b[1;32m    123\u001b[0m \u001b[38;5;28;01mfinally\u001b[39;00m:\n\u001b[1;32m    124\u001b[0m     \u001b[38;5;28;01mdel\u001b[39;00m filtered_tb\n",
      "File \u001b[0;32m~/anaconda3/envs/keras-tf/lib/python3.10/site-packages/keras/src/backend/tensorflow/random.py:34\u001b[0m, in \u001b[0;36muniform\u001b[0;34m(shape, minval, maxval, dtype, seed)\u001b[0m\n\u001b[1;32m     32\u001b[0m dtype \u001b[38;5;241m=\u001b[39m dtype \u001b[38;5;129;01mor\u001b[39;00m floatx()\n\u001b[1;32m     33\u001b[0m seed \u001b[38;5;241m=\u001b[39m _cast_seed(draw_seed(seed))\n\u001b[0;32m---> 34\u001b[0m \u001b[38;5;28;01mreturn\u001b[39;00m \u001b[43mtf\u001b[49m\u001b[38;5;241;43m.\u001b[39;49m\u001b[43mrandom\u001b[49m\u001b[38;5;241;43m.\u001b[39;49m\u001b[43mstateless_uniform\u001b[49m\u001b[43m(\u001b[49m\n\u001b[1;32m     35\u001b[0m \u001b[43m    \u001b[49m\u001b[43mshape\u001b[49m\u001b[38;5;241;43m=\u001b[39;49m\u001b[43mshape\u001b[49m\u001b[43m,\u001b[49m\n\u001b[1;32m     36\u001b[0m \u001b[43m    \u001b[49m\u001b[43mminval\u001b[49m\u001b[38;5;241;43m=\u001b[39;49m\u001b[43mtf\u001b[49m\u001b[38;5;241;43m.\u001b[39;49m\u001b[43mcast\u001b[49m\u001b[43m(\u001b[49m\u001b[43mminval\u001b[49m\u001b[43m,\u001b[49m\u001b[43m \u001b[49m\u001b[43mdtype\u001b[49m\u001b[43m)\u001b[49m\u001b[43m,\u001b[49m\n\u001b[1;32m     37\u001b[0m \u001b[43m    \u001b[49m\u001b[43mmaxval\u001b[49m\u001b[38;5;241;43m=\u001b[39;49m\u001b[43mtf\u001b[49m\u001b[38;5;241;43m.\u001b[39;49m\u001b[43mcast\u001b[49m\u001b[43m(\u001b[49m\u001b[43mmaxval\u001b[49m\u001b[43m,\u001b[49m\u001b[43m \u001b[49m\u001b[43mdtype\u001b[49m\u001b[43m)\u001b[49m\u001b[43m,\u001b[49m\n\u001b[1;32m     38\u001b[0m \u001b[43m    \u001b[49m\u001b[43mdtype\u001b[49m\u001b[38;5;241;43m=\u001b[39;49m\u001b[43mdtype\u001b[49m\u001b[43m,\u001b[49m\n\u001b[1;32m     39\u001b[0m \u001b[43m    \u001b[49m\u001b[43mseed\u001b[49m\u001b[38;5;241;43m=\u001b[39;49m\u001b[43mseed\u001b[49m\u001b[43m,\u001b[49m\n\u001b[1;32m     40\u001b[0m \u001b[43m\u001b[49m\u001b[43m)\u001b[49m\n",
      "\u001b[0;31mResourceExhaustedError\u001b[0m: {{function_node __wrapped__Mul_device_/job:localhost/replica:0/task:0/device:GPU:0}} failed to allocate memory [Op:Mul] name: "
     ]
    }
   ],
   "source": [
    "model_020 = Sequential([\n",
    "    Input(shape=(X_train.shape[1:])),\n",
    "    Rescaling(1./255),\n",
    "    RandomFlip('horizontal and vertical'),\n",
    "    RandomRotation(factor=(-0.3, 0.3)),\n",
    "    RandomTranslation(height_factor=(-0.3,0.3), width_factor=(-0.3, 0.3)),\n",
    "    RandomZoom(height_factor=(-0.3,0.3), width_factor=(-0.3, 0.3)),\n",
    "    Conv2D(filters, kernel_size=3, padding='SAME', activation='relu'),\n",
    "    Conv2D(filters*2, kernel_size=3, padding='SAME', activation='relu'),\n",
    "    Conv2D(filters*4, kernel_size=3, padding='SAME', activation='relu'),\n",
    "    MaxPooling2D(pool_size=2),\n",
    "    BatchNormalization(),\n",
    "    Dropout(0.2),\n",
    "    Conv2D(filters, kernel_size=3, padding='SAME', activation='relu'),\n",
    "    Conv2D(filters*2, kernel_size=3, padding='SAME', activation='relu'),\n",
    "    Conv2D(filters*4, kernel_size=3, padding='SAME', activation='relu'),\n",
    "    MaxPooling2D(pool_size=2),\n",
    "    BatchNormalization(),\n",
    "    Dropout(0.2),\n",
    "    Conv2D(filters, kernel_size=3, padding='SAME', activation='relu'),\n",
    "    Conv2D(filters*2, kernel_size=3, padding='SAME', activation='relu'),\n",
    "    Conv2D(filters*4, kernel_size=3, padding='SAME', activation='relu'),\n",
    "    MaxPooling2D(pool_size=2),\n",
    "    BatchNormalization(),\n",
    "    Dropout(0.2),\n",
    "    Conv2D(filters, kernel_size=3, padding='SAME', activation='relu'),\n",
    "    Conv2D(filters*2, kernel_size=3, padding='SAME', activation='relu'),\n",
    "    Conv2D(filters*4, kernel_size=3, padding='SAME', activation='relu'),\n",
    "    MaxPooling2D(pool_size=2),\n",
    "    BatchNormalization(),\n",
    "    Dropout(0.2),\n",
    "    Flatten(),\n",
    "    Dense(filters, activation='relu'),\n",
    "    Dense(7, activation='softmax')\n",
    "])\n",
    "\n",
    "history020 = compile_and_train(model_020,\n",
    "                               loss=CategoricalFocalCrossentropy(),\n",
    "                               opt='adam',\n",
    "                               metrics=['accuracy', F1Score(average='macro')],\n",
    "                               epochs=200,\n",
    "                               patience=None)"
   ]
  },
  {
   "cell_type": "code",
   "execution_count": null,
   "metadata": {
    "colab": {
     "base_uri": "https://localhost:8080/",
     "height": 1000
    },
    "executionInfo": {
     "elapsed": 2523,
     "status": "ok",
     "timestamp": 1741549218014,
     "user": {
      "displayName": "Dimitri Caputo",
      "userId": "12075933984764029925"
     },
     "user_tz": -60
    },
    "id": "hec7w51oqirk",
    "outputId": "7192e3b4-9b61-4c26-a7d7-b6bcd955eff7"
   },
   "outputs": [],
   "source": [
    "get_analysis_cat(model_020, X_test, y_test)"
   ]
  },
  {
   "cell_type": "markdown",
   "metadata": {
    "id": "wR4PBIKcYZ5s"
   },
   "source": [
    "## Custom loss"
   ]
  },
  {
   "cell_type": "code",
   "execution_count": 17,
   "metadata": {
    "executionInfo": {
     "elapsed": 7,
     "status": "ok",
     "timestamp": 1742156920899,
     "user": {
      "displayName": "Dimitri Caputo",
      "userId": "12075933984764029925"
     },
     "user_tz": -60
    },
    "id": "OeHNIaretx4l"
   },
   "outputs": [],
   "source": [
    "import tensorflow as tf\n",
    "from keras.losses import CategoricalFocalCrossentropy\n",
    "from keras import backend as K\n",
    "from keras import ops\n",
    "\n",
    "def f1macro(y_true, y_pred):\n",
    "    tp = []\n",
    "    fp = []\n",
    "    fn = []\n",
    "    precision = []\n",
    "    recall = []\n",
    "    f1 = []\n",
    "\n",
    "    cfc = CategoricalFocalCrossentropy()\n",
    "\n",
    "\n",
    "    for n in range(7):\n",
    "        tp.append(ops.sum(ops.cast(y_true[:, n] * y_pred[:, n], 'float32'), axis=0))\n",
    "        fp.append(ops.sum(ops.cast((1 - y_true[:, n]) * y_pred[:, n], 'float32'), axis=0))\n",
    "        fn.append(ops.sum(ops.cast(y_true[:, n] * (1 - y_pred[:, n]), 'float32'), axis=0))\n",
    "\n",
    "    for n in range(7):\n",
    "        precision.append(tp[n] / (tp[n] + fp[n] + K.epsilon()))\n",
    "        recall.append(tp[n] / (tp[n] + fn[n] + K.epsilon()))\n",
    "\n",
    "    for n in range(7):\n",
    "        f1.append(2 * (precision[n] * recall[n]) / (precision[n] + recall[n] + K.epsilon()))\n",
    "\n",
    "    f1macro = tf.stack(f1)\n",
    "    f1macroscore = ops.mean(f1macro)\n",
    "\n",
    "    f1macroscore = tf.where(tf.math.is_nan(f1macroscore), tf.zeros_like(f1macroscore), f1macroscore)\n",
    "\n",
    "    return cfc + (1 - f1macroscore)"
   ]
  }
 ],
 "metadata": {
  "accelerator": "GPU",
  "colab": {
   "gpuType": "T4",
   "provenance": [],
   "toc_visible": true
  },
  "kernelspec": {
   "display_name": "keras-tf",
   "language": "python",
   "name": "python3"
  },
  "language_info": {
   "codemirror_mode": {
    "name": "ipython",
    "version": 3
   },
   "file_extension": ".py",
   "mimetype": "text/x-python",
   "name": "python",
   "nbconvert_exporter": "python",
   "pygments_lexer": "ipython3",
   "version": "3.10.16"
  }
 },
 "nbformat": 4,
 "nbformat_minor": 0
}
